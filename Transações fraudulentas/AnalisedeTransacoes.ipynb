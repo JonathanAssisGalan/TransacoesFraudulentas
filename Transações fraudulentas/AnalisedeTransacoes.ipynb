{
 "cells": [
  {
   "cell_type": "code",
   "execution_count": 1,
   "metadata": {},
   "outputs": [],
   "source": [
    "import pandas as pd \n",
    "import numpy as np\n",
    "import matplotlib.pyplot as plt\n",
    "import seaborn as sns"
   ]
  },
  {
   "cell_type": "code",
   "execution_count": 2,
   "metadata": {},
   "outputs": [],
   "source": [
    "transacoesdf = pd.read_csv('transactions.csv')"
   ]
  },
  {
   "cell_type": "code",
   "execution_count": 3,
   "metadata": {},
   "outputs": [
    {
     "data": {
      "text/html": [
       "<div>\n",
       "<style scoped>\n",
       "    .dataframe tbody tr th:only-of-type {\n",
       "        vertical-align: middle;\n",
       "    }\n",
       "\n",
       "    .dataframe tbody tr th {\n",
       "        vertical-align: top;\n",
       "    }\n",
       "\n",
       "    .dataframe thead th {\n",
       "        text-align: right;\n",
       "    }\n",
       "</style>\n",
       "<table border=\"1\" class=\"dataframe\">\n",
       "  <thead>\n",
       "    <tr style=\"text-align: right;\">\n",
       "      <th></th>\n",
       "      <th>IDTransação</th>\n",
       "      <th>IDpessoal</th>\n",
       "      <th>DatadaTransação</th>\n",
       "      <th>Valor</th>\n",
       "      <th>Empresa</th>\n",
       "      <th>Categoria</th>\n",
       "      <th>Fraude</th>\n",
       "    </tr>\n",
       "  </thead>\n",
       "  <tbody>\n",
       "    <tr>\n",
       "      <th>0</th>\n",
       "      <td>462e62ea-3043-444d-a60d-3a6a97d2d161</td>\n",
       "      <td>c0af4019-632c-49a7-ac4f-134252317405</td>\n",
       "      <td>2024-06-29 05:21:22</td>\n",
       "      <td>329.84</td>\n",
       "      <td>Hull-Gonzalez</td>\n",
       "      <td>Mercado</td>\n",
       "      <td>0</td>\n",
       "    </tr>\n",
       "    <tr>\n",
       "      <th>1</th>\n",
       "      <td>2cb4a99f-4ea6-4735-8d94-0a34b1bdb9df</td>\n",
       "      <td>fec80d8a-1b1d-4f1d-aca1-1ad428d3aaf0</td>\n",
       "      <td>2024-03-30 09:00:51</td>\n",
       "      <td>794.27</td>\n",
       "      <td>Butler, Johnson and Jackson</td>\n",
       "      <td>Mercado</td>\n",
       "      <td>0</td>\n",
       "    </tr>\n",
       "    <tr>\n",
       "      <th>2</th>\n",
       "      <td>23f4c589-48e1-4369-881d-f43a4e52574c</td>\n",
       "      <td>66ee19a6-ce84-4117-b786-5215bf4f8e96</td>\n",
       "      <td>2024-06-26 03:05:02</td>\n",
       "      <td>690.00</td>\n",
       "      <td>Burke LLC</td>\n",
       "      <td>Mercado</td>\n",
       "      <td>0</td>\n",
       "    </tr>\n",
       "    <tr>\n",
       "      <th>3</th>\n",
       "      <td>35bd35e9-7bc2-4355-9068-2617bbe76b31</td>\n",
       "      <td>fd30df63-36a2-4818-92ce-8c4753ba2934</td>\n",
       "      <td>2024-04-28 04:40:46</td>\n",
       "      <td>321.69</td>\n",
       "      <td>Lowe PLC</td>\n",
       "      <td>Padaria</td>\n",
       "      <td>0</td>\n",
       "    </tr>\n",
       "    <tr>\n",
       "      <th>4</th>\n",
       "      <td>dba5b783-f564-443d-abd7-587f2c63dbf8</td>\n",
       "      <td>55849ccf-21bb-4b16-9d32-95a330e6be66</td>\n",
       "      <td>2024-03-31 18:16:23</td>\n",
       "      <td>631.12</td>\n",
       "      <td>Williams, Velasquez and Chavez</td>\n",
       "      <td>Roupas</td>\n",
       "      <td>0</td>\n",
       "    </tr>\n",
       "    <tr>\n",
       "      <th>...</th>\n",
       "      <td>...</td>\n",
       "      <td>...</td>\n",
       "      <td>...</td>\n",
       "      <td>...</td>\n",
       "      <td>...</td>\n",
       "      <td>...</td>\n",
       "      <td>...</td>\n",
       "    </tr>\n",
       "    <tr>\n",
       "      <th>995</th>\n",
       "      <td>1243c4fe-84f9-462b-91d6-6427497ecddf</td>\n",
       "      <td>95de12ee-091d-4621-88eb-cfc7951b7892</td>\n",
       "      <td>2024-03-20 11:42:29</td>\n",
       "      <td>682.60</td>\n",
       "      <td>Aguirre Ltd</td>\n",
       "      <td>Eletronicos</td>\n",
       "      <td>0</td>\n",
       "    </tr>\n",
       "    <tr>\n",
       "      <th>996</th>\n",
       "      <td>fcb73e1a-5b14-42bc-ab0f-0c7ac8da5548</td>\n",
       "      <td>72a6c98f-bde6-48ec-945d-63184dd74413</td>\n",
       "      <td>2024-01-20 16:07:26</td>\n",
       "      <td>325.42</td>\n",
       "      <td>Rodgers-Lucas</td>\n",
       "      <td>Padaria</td>\n",
       "      <td>0</td>\n",
       "    </tr>\n",
       "    <tr>\n",
       "      <th>997</th>\n",
       "      <td>469533a2-dc7b-43dd-991e-82d4cca07093</td>\n",
       "      <td>521f39cf-3ed2-497e-aa03-b0375e379fab</td>\n",
       "      <td>2024-04-30 05:24:00</td>\n",
       "      <td>388.54</td>\n",
       "      <td>Smith, Patterson and Lamb</td>\n",
       "      <td>Viagens</td>\n",
       "      <td>0</td>\n",
       "    </tr>\n",
       "    <tr>\n",
       "      <th>998</th>\n",
       "      <td>3c86a932-f7bd-41fb-ab83-6e3923135f1a</td>\n",
       "      <td>91b1222b-6c61-4deb-91a4-206758ab7ddd</td>\n",
       "      <td>2024-04-18 15:25:40</td>\n",
       "      <td>545.53</td>\n",
       "      <td>Benson Group</td>\n",
       "      <td>Eletronicos</td>\n",
       "      <td>0</td>\n",
       "    </tr>\n",
       "    <tr>\n",
       "      <th>999</th>\n",
       "      <td>3cacdd5a-55ba-40e2-bdad-6f888770ecc2</td>\n",
       "      <td>b40cae59-8db7-46b2-94d7-72e9d8714072</td>\n",
       "      <td>2024-05-07 04:31:48</td>\n",
       "      <td>834.20</td>\n",
       "      <td>Miller, Pruitt and Bailey</td>\n",
       "      <td>Eletronicos</td>\n",
       "      <td>0</td>\n",
       "    </tr>\n",
       "  </tbody>\n",
       "</table>\n",
       "<p>1000 rows × 7 columns</p>\n",
       "</div>"
      ],
      "text/plain": [
       "                              IDTransação  \\\n",
       "0    462e62ea-3043-444d-a60d-3a6a97d2d161   \n",
       "1    2cb4a99f-4ea6-4735-8d94-0a34b1bdb9df   \n",
       "2    23f4c589-48e1-4369-881d-f43a4e52574c   \n",
       "3    35bd35e9-7bc2-4355-9068-2617bbe76b31   \n",
       "4    dba5b783-f564-443d-abd7-587f2c63dbf8   \n",
       "..                                    ...   \n",
       "995  1243c4fe-84f9-462b-91d6-6427497ecddf   \n",
       "996  fcb73e1a-5b14-42bc-ab0f-0c7ac8da5548   \n",
       "997  469533a2-dc7b-43dd-991e-82d4cca07093   \n",
       "998  3c86a932-f7bd-41fb-ab83-6e3923135f1a   \n",
       "999  3cacdd5a-55ba-40e2-bdad-6f888770ecc2   \n",
       "\n",
       "                                IDpessoal      DatadaTransação   Valor  \\\n",
       "0    c0af4019-632c-49a7-ac4f-134252317405  2024-06-29 05:21:22  329.84   \n",
       "1    fec80d8a-1b1d-4f1d-aca1-1ad428d3aaf0  2024-03-30 09:00:51  794.27   \n",
       "2    66ee19a6-ce84-4117-b786-5215bf4f8e96  2024-06-26 03:05:02  690.00   \n",
       "3    fd30df63-36a2-4818-92ce-8c4753ba2934  2024-04-28 04:40:46  321.69   \n",
       "4    55849ccf-21bb-4b16-9d32-95a330e6be66  2024-03-31 18:16:23  631.12   \n",
       "..                                    ...                  ...     ...   \n",
       "995  95de12ee-091d-4621-88eb-cfc7951b7892  2024-03-20 11:42:29  682.60   \n",
       "996  72a6c98f-bde6-48ec-945d-63184dd74413  2024-01-20 16:07:26  325.42   \n",
       "997  521f39cf-3ed2-497e-aa03-b0375e379fab  2024-04-30 05:24:00  388.54   \n",
       "998  91b1222b-6c61-4deb-91a4-206758ab7ddd  2024-04-18 15:25:40  545.53   \n",
       "999  b40cae59-8db7-46b2-94d7-72e9d8714072  2024-05-07 04:31:48  834.20   \n",
       "\n",
       "                            Empresa    Categoria  Fraude  \n",
       "0                     Hull-Gonzalez      Mercado       0  \n",
       "1       Butler, Johnson and Jackson      Mercado       0  \n",
       "2                         Burke LLC      Mercado       0  \n",
       "3                          Lowe PLC      Padaria       0  \n",
       "4    Williams, Velasquez and Chavez       Roupas       0  \n",
       "..                              ...          ...     ...  \n",
       "995                     Aguirre Ltd  Eletronicos       0  \n",
       "996                   Rodgers-Lucas      Padaria       0  \n",
       "997       Smith, Patterson and Lamb      Viagens       0  \n",
       "998                    Benson Group  Eletronicos       0  \n",
       "999       Miller, Pruitt and Bailey  Eletronicos       0  \n",
       "\n",
       "[1000 rows x 7 columns]"
      ]
     },
     "execution_count": 3,
     "metadata": {},
     "output_type": "execute_result"
    }
   ],
   "source": [
    "transacoesdf "
   ]
  },
  {
   "cell_type": "code",
   "execution_count": 4,
   "metadata": {},
   "outputs": [
    {
     "name": "stdout",
     "output_type": "stream",
     "text": [
      "(1000, 7)\n"
     ]
    }
   ],
   "source": [
    "print(transacoesdf.shape)"
   ]
  },
  {
   "cell_type": "code",
   "execution_count": 5,
   "metadata": {},
   "outputs": [
    {
     "name": "stdout",
     "output_type": "stream",
     "text": [
      "IDTransação         object\n",
      "IDpessoal           object\n",
      "DatadaTransação     object\n",
      "Valor              float64\n",
      "Empresa             object\n",
      "Categoria           object\n",
      "Fraude               int64\n",
      "dtype: object\n"
     ]
    }
   ],
   "source": [
    "print(transacoesdf.dtypes)"
   ]
  },
  {
   "cell_type": "code",
   "execution_count": 6,
   "metadata": {},
   "outputs": [
    {
     "name": "stdout",
     "output_type": "stream",
     "text": [
      "             Valor       Fraude\n",
      "count  1000.000000  1000.000000\n",
      "mean    512.436520     0.036000\n",
      "std     284.608189     0.186383\n",
      "min      10.240000     0.000000\n",
      "25%     272.482500     0.000000\n",
      "50%     500.735000     0.000000\n",
      "75%     761.107500     0.000000\n",
      "max     998.630000     1.000000\n"
     ]
    }
   ],
   "source": [
    "print(transacoesdf.describe())"
   ]
  },
  {
   "cell_type": "code",
   "execution_count": 7,
   "metadata": {},
   "outputs": [
    {
     "data": {
      "image/png": "[encoded data removed]",
      "text/plain": [
       "<Figure size 640x480 with 1 Axes>"
      ]
     },
     "metadata": {},
     "output_type": "display_data"
    }
   ],
   "source": [
    "sns.countplot(data=transacoesdf, x=\"Fraude\")\n",
    "plt.show()"
   ]
  },
  {
   "cell_type": "code",
   "execution_count": 8,
   "metadata": {},
   "outputs": [],
   "source": [
    "#Extração dos dados\n",
    "\n",
    "from sklearn.preprocessing import LabelEncoder\n",
    "transacoesdf['DatadaTransação'] = pd.to_datetime(transacoesdf['DatadaTransação'])\n",
    "transacoesdf['TransacaoMensal'] = transacoesdf['DatadaTransação'].dt.month\n",
    "transacoesdf['TransacaoDiaria'] = transacoesdf['DatadaTransação'].dt.day"
   ]
  },
  {
   "cell_type": "code",
   "execution_count": 9,
   "metadata": {},
   "outputs": [],
   "source": [
    "le = LabelEncoder()\n",
    "transacoesdf['Empresa'] = le.fit_transform(transacoesdf['Empresa'])\n",
    "transacoesdf['Categoria'] = le.fit_transform(transacoesdf['Categoria'])"
   ]
  },
  {
   "cell_type": "code",
   "execution_count": 10,
   "metadata": {},
   "outputs": [
    {
     "name": "stdout",
     "output_type": "stream",
     "text": [
      "                            IDTransação                             IDpessoal  \\\n",
      "0  462e62ea-3043-444d-a60d-3a6a97d2d161  c0af4019-632c-49a7-ac4f-134252317405   \n",
      "1  2cb4a99f-4ea6-4735-8d94-0a34b1bdb9df  fec80d8a-1b1d-4f1d-aca1-1ad428d3aaf0   \n",
      "2  23f4c589-48e1-4369-881d-f43a4e52574c  66ee19a6-ce84-4117-b786-5215bf4f8e96   \n",
      "3  35bd35e9-7bc2-4355-9068-2617bbe76b31  fd30df63-36a2-4818-92ce-8c4753ba2934   \n",
      "4  dba5b783-f564-443d-abd7-587f2c63dbf8  55849ccf-21bb-4b16-9d32-95a330e6be66   \n",
      "\n",
      "      DatadaTransação   Valor  Empresa  Categoria  Fraude  TransacaoMensal  \\\n",
      "0 2024-06-29 05:21:22  329.84      414          2       0                6   \n",
      "1 2024-03-30 09:00:51  794.27      112          2       0                3   \n",
      "2 2024-06-26 03:05:02  690.00      106          2       0                6   \n",
      "3 2024-04-28 04:40:46  321.69      532          3       0                4   \n",
      "4 2024-03-31 18:16:23  631.12      947          4       0                3   \n",
      "\n",
      "   TransacaoDiaria  \n",
      "0               29  \n",
      "1               30  \n",
      "2               26  \n",
      "3               28  \n",
      "4               31  \n"
     ]
    }
   ],
   "source": [
    "print(transacoesdf.head())"
   ]
  },
  {
   "cell_type": "code",
   "execution_count": 11,
   "metadata": {},
   "outputs": [
    {
     "name": "stdout",
     "output_type": "stream",
     "text": [
      "[[197   0]\n",
      " [  3   0]]\n",
      "              precision    recall  f1-score   support\n",
      "\n",
      "           0       0.98      1.00      0.99       197\n",
      "           1       0.00      0.00      0.00         3\n",
      "\n",
      "    accuracy                           0.98       200\n",
      "   macro avg       0.49      0.50      0.50       200\n",
      "weighted avg       0.97      0.98      0.98       200\n",
      "\n"
     ]
    },
    {
     "name": "stderr",
     "output_type": "stream",
     "text": [
      "c:\\Users\\jonat\\AppData\\Local\\Programs\\Python\\Python311\\Lib\\site-packages\\sklearn\\metrics\\_classification.py:1469: UndefinedMetricWarning: Precision and F-score are ill-defined and being set to 0.0 in labels with no predicted samples. Use `zero_division` parameter to control this behavior.\n",
      "  _warn_prf(average, modifier, msg_start, len(result))\n",
      "c:\\Users\\jonat\\AppData\\Local\\Programs\\Python\\Python311\\Lib\\site-packages\\sklearn\\metrics\\_classification.py:1469: UndefinedMetricWarning: Precision and F-score are ill-defined and being set to 0.0 in labels with no predicted samples. Use `zero_division` parameter to control this behavior.\n",
      "  _warn_prf(average, modifier, msg_start, len(result))\n",
      "c:\\Users\\jonat\\AppData\\Local\\Programs\\Python\\Python311\\Lib\\site-packages\\sklearn\\metrics\\_classification.py:1469: UndefinedMetricWarning: Precision and F-score are ill-defined and being set to 0.0 in labels with no predicted samples. Use `zero_division` parameter to control this behavior.\n",
      "  _warn_prf(average, modifier, msg_start, len(result))\n"
     ]
    }
   ],
   "source": [
    "#Predição\n",
    "\n",
    "from sklearn.model_selection import train_test_split\n",
    "from sklearn.ensemble import RandomForestClassifier\n",
    "from sklearn.metrics import classification_report, confusion_matrix\n",
    "\n",
    "features = ['Valor','Empresa', 'Categoria', 'TransacaoMensal', 'TransacaoDiaria']\n",
    "X = transacoesdf[features]\n",
    "y = transacoesdf['Fraude']\n",
    "\n",
    "X_train, X_test, y_train, y_test = train_test_split(X, y, test_size=0.2, random_state=42)\n",
    "\n",
    "model = RandomForestClassifier(n_estimators=100, random_state=42)\n",
    "model.fit(X_train,y_train)\n",
    "\n",
    "y_pred = model.predict(X_test)\n",
    "print(confusion_matrix(y_test, y_pred))\n",
    "print(classification_report(y_test, y_pred))\n",
    "\n"
   ]
  },
  {
   "cell_type": "markdown",
   "metadata": {},
   "source": [
    "Os resultados compartilhados são de uma matriz de confusão e um relatório de classificação para um modelo de classificação, RandomForestClassifier.\n",
    "\n",
    "### Matriz de Confusão\n",
    "A matriz de confusão é representada assim:\n",
    "```\n",
    "[[197   0]\n",
    " [  3   0]]\n",
    "```\n",
    "- **197**: Número de transações não fraudulentas corretamente classificadas como não fraudulentas (True Negatives).\n",
    "- **0**: Número de transações não fraudulentas incorretamente classificadas como fraudulentas (False Positives).\n",
    "- **3**: Número de transações fraudulentas incorretamente classificadas como não fraudulentas (False Negatives).\n",
    "- **0**: Número de transações fraudulentas corretamente classificadas como fraudulentas (True Positives).\n",
    "\n",
    "### Relatório de Classificação\n",
    "O relatório de classificação fornece as métricas de precisão, recall e f1-score para cada classe.\n",
    "\n",
    "#### Classe 0 (Não Fraudulenta)\n",
    "- **Precision (Precisão)**: 0.98\n",
    "  - A precisão é a proporção de verdadeiros positivos sobre todos os exemplos classificados como positivos.\n",
    "  - Aqui, significa que 98% das transações classificadas como não fraudulentas realmente não são fraudulentas.\n",
    "- **Recall (Revocação)**: 1.00\n",
    "  - A revocação é a proporção de verdadeiros positivos sobre todos os exemplos que deveriam ser classificados como positivos.\n",
    "  - Aqui, significa que o modelo identificou corretamente todas as transações não fraudulentas.\n",
    "- **F1-Score**: 0.99\n",
    "  - O F1-score é a média harmônica da precisão e da revocação, proporcionando um equilíbrio entre os dois.\n",
    "- **Support**: 197\n",
    "  - O número de ocorrências reais da classe no conjunto de teste.\n",
    "\n",
    "#### Classe 1 (Fraudulenta)\n",
    "- **Precision (Precisão)**: 0.00\n",
    "  - Aqui, significa que 0% das transações classificadas como fraudulentas realmente são fraudulentas.\n",
    "- **Recall (Revocação)**: 0.00\n",
    "  - O modelo não identificou corretamente nenhuma transação fraudulenta.\n",
    "- **F1-Score**: 0.00\n",
    "- **Support**: 3\n",
    "  - O número de ocorrências reais da classe no conjunto de teste.\n",
    "\n",
    "#### Métricas Gerais\n",
    "- **Accuracy (Acurácia)**: 0.98\n",
    "  - A proporção de todas as predições corretas sobre o total de instâncias.\n",
    "  - Aqui, 98% das transações foram classificadas corretamente.\n",
    "- **Macro Avg (Média Macro)**:\n",
    "  - A média não ponderada das métricas, calculada igualmente para cada classe.\n",
    "- **Weighted Avg (Média Ponderada)**:\n",
    "  - A média das métricas, ponderada pelo número de ocorrências de cada classe.\n",
    "\n",
    "### Interpretação Geral\n",
    "- O modelo está muito bom em identificar transações não fraudulentas (alta precisão, recall e f1-score para a classe 0).\n",
    "\n",
    "- O modelo não está identificando transações fraudulentas (precisão, recall e f1-score de 0 para a classe 1). Isso pode ser devido ao desbalanceamento dos dados, onde as transações fraudulentas são muito menos frequentes do que as não fraudulentas.\n",
    "\n",
    "### Melhorias a serem executadas para a Detecção de Fraudes\n",
    "1. **Balanceamento dos Dados**: Tentar técnicas como oversampling (SMOTE) ou undersampling para equilibrar o número de transações fraudulentas e não fraudulentas.\n",
    "2. **Algoritmos Diferentes**: Experimentar outros algoritmos que possam lidar melhor com classes desbalanceadas, como árvores de decisão, SVM, ou redes neurais.\n",
    "3. **Ajuste de Hiperparâmetros**: Realizar uma busca de hiperparâmetros para ajustar o modelo.\n",
    "4. **Feature Engineering**: Adicionar mais características que possam ajudar a distinguir transações fraudulentas das não fraudulentas."
   ]
  }
 ],
 "metadata": {
  "kernelspec": {
   "display_name": "Python 3",
   "language": "python",
   "name": "python3"
  },
  "language_info": {
   "codemirror_mode": {
    "name": "ipython",
    "version": 3
   },
   "file_extension": ".py",
   "mimetype": "text/x-python",
   "name": "python",
   "nbconvert_exporter": "python",
   "pygments_lexer": "ipython3",
   "version": "3.11.3"
  }
 },
 "nbformat": 4,
 "nbformat_minor": 2
}
